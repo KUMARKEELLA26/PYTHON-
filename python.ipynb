{
  "nbformat": 4,
  "nbformat_minor": 0,
  "metadata": {
    "colab": {
      "name": "python.ipynb",
      "provenance": [],
      "collapsed_sections": [],
      "authorship_tag": "ABX9TyPAw0KecfLo+B5vKymPpj7Q",
      "include_colab_link": true
    },
    "kernelspec": {
      "name": "python3",
      "display_name": "Python 3"
    },
    "language_info": {
      "name": "python"
    }
  },
  "cells": [
    {
      "cell_type": "markdown",
      "metadata": {
        "id": "view-in-github",
        "colab_type": "text"
      },
      "source": [
        "<a href=\"https://colab.research.google.com/github/KUMARKEELLA26/PYTHON-/blob/main/python.ipynb\" target=\"_parent\"><img src=\"https://colab.research.google.com/assets/colab-badge.svg\" alt=\"Open In Colab\"/></a>"
      ]
    },
    {
      "cell_type": "code",
      "metadata": {
        "id": "cQjzBuXYwKuU"
      },
      "source": [
        ""
      ],
      "execution_count": null,
      "outputs": []
    },
    {
      "cell_type": "markdown",
      "metadata": {
        "id": "R328fPHYwNqU"
      },
      "source": [
        "EXCERCISE: 1\n",
        "\n",
        "\n",
        "a.Running instructions in interactive interpreter and a python script"
      ]
    },
    {
      "cell_type": "code",
      "metadata": {
        "colab": {
          "base_uri": "https://localhost:8080/"
        },
        "id": "qY3EJjY7xAQX",
        "outputId": "f761da2e-421b-42e8-8d70-110b31261b9a"
      },
      "source": [
        "a=5\n",
        "b=7\n",
        "print(a,b)"
      ],
      "execution_count": 4,
      "outputs": [
        {
          "output_type": "stream",
          "text": [
            "5 7\n"
          ],
          "name": "stdout"
        }
      ]
    },
    {
      "cell_type": "markdown",
      "metadata": {
        "id": "voll6P_zxnd-"
      },
      "source": [
        "b.write a program to purposefully riase indentation error and correct it"
      ]
    },
    {
      "cell_type": "code",
      "metadata": {
        "colab": {
          "base_uri": "https://localhost:8080/"
        },
        "id": "PmxVuRHHx7Di",
        "outputId": "dc22dea2-7d57-4d0f-99f6-626023310145"
      },
      "source": [
        "if 18>9:\n",
        "  #printf(\"true\")\n",
        "  print(\"true\")"
      ],
      "execution_count": 5,
      "outputs": [
        {
          "output_type": "stream",
          "text": [
            "true\n"
          ],
          "name": "stdout"
        }
      ]
    },
    {
      "cell_type": "markdown",
      "metadata": {
        "id": "LUDpmdlFyOUr"
      },
      "source": [
        "EXERCISE:2 OPERATIONS \n",
        "\n",
        "\n",
        "a. write a program to compute distance betweent two points taking input from the user "
      ]
    },
    {
      "cell_type": "code",
      "metadata": {
        "colab": {
          "base_uri": "https://localhost:8080/"
        },
        "id": "CJfff4hRy3Xn",
        "outputId": "2a606679-2c1b-4467-a392-435fc2f05cfb"
      },
      "source": [
        "import math\n",
        "x1=int(input(\"Enter X1 point:\"))\n",
        "y1=int(input(\"Enter Y1 point:\"))\n",
        "x2=int(input(\"Enter X2 point:\"))\n",
        "y2=int(input(\"Enter Y2 point:\"))\n",
        "dis=math.sqrt(math.pow(x2 - x1, 2) +math.pow(y2 - y1, 2) * 1.0)\n",
        "print(dis)\n"
      ],
      "execution_count": 9,
      "outputs": [
        {
          "output_type": "stream",
          "text": [
            "Enter X1 point:5\n",
            "Enter Y1 point:4\n",
            "Enter X2 point:0\n",
            "Enter Y2 point:0\n",
            "6.4031242374328485\n"
          ],
          "name": "stdout"
        }
      ]
    },
    {
      "cell_type": "markdown",
      "metadata": {
        "id": "DiIQ9lv60t_f"
      },
      "source": [
        "b.write a program add.py that takes 2 numbers as command line arguments and print its sum"
      ]
    },
    {
      "cell_type": "code",
      "metadata": {
        "id": "8SX2pyws0v8g"
      },
      "source": [
        "import sys\n",
        "x=int(sys.argv[1])\n",
        "y=int(sys.argv[2])\n",
        "sum=x+y\n",
        "print(\"The addition is :\",sum)\n"
      ],
      "execution_count": null,
      "outputs": []
    },
    {
      "cell_type": "markdown",
      "metadata": {
        "id": "0doS95o83xQb"
      },
      "source": [
        "5 15\n",
        "The addition is : 20 "
      ]
    },
    {
      "cell_type": "markdown",
      "metadata": {
        "id": "nU3gLiHx39R2"
      },
      "source": [
        "EXCERCISE:3 CONTROL FLOW \n",
        "\n",
        "\n",
        "a.write a program to test wheather the given number is even or not "
      ]
    },
    {
      "cell_type": "code",
      "metadata": {
        "colab": {
          "base_uri": "https://localhost:8080/"
        },
        "id": "A_QbHGAk5DQU",
        "outputId": "02fb86c2-2823-4de3-d971-d1725ac03083"
      },
      "source": [
        "a=int(input(\"Enter a Number : \"));\n",
        "if(a%2==0):\n",
        "     print(\"This Number is Even\")\n",
        "else:\n",
        "     print(\"This Number is Odd\")\n"
      ],
      "execution_count": 17,
      "outputs": [
        {
          "output_type": "stream",
          "text": [
            "Enter a Number : 2\n",
            "This Number is Even\n"
          ],
          "name": "stdout"
        }
      ]
    },
    {
      "cell_type": "markdown",
      "metadata": {
        "id": "hWfE1Jb95hXf"
      },
      "source": [
        "b.using  for loop ,write a program that prints out decimal equivalent of 1/2,1/3,1/4.....1/10"
      ]
    },
    {
      "cell_type": "code",
      "metadata": {
        "colab": {
          "base_uri": "https://localhost:8080/"
        },
        "id": "vmla0_xZ54df",
        "outputId": "1f7f6423-3500-47f1-ab47-c3bc8fd2dc25"
      },
      "source": [
        "for i in range (2,11):\n",
        "  print(1/i)"
      ],
      "execution_count": 18,
      "outputs": [
        {
          "output_type": "stream",
          "text": [
            "0.5\n",
            "0.3333333333333333\n",
            "0.25\n",
            "0.2\n",
            "0.16666666666666666\n",
            "0.14285714285714285\n",
            "0.125\n",
            "0.1111111111111111\n",
            "0.1\n"
          ],
          "name": "stdout"
        }
      ]
    },
    {
      "cell_type": "markdown",
      "metadata": {
        "id": "V0APaPS_6SfD"
      },
      "source": [
        "c.write a program that loops over a sequence .what is  sequence \n"
      ]
    },
    {
      "cell_type": "code",
      "metadata": {
        "colab": {
          "base_uri": "https://localhost:8080/"
        },
        "id": "uP60CG_E7bDy",
        "outputId": "af0a1529-f0d5-4ed6-e3ed-58c5c549f360"
      },
      "source": [
        "#Sum of all the list elements \n",
        "\n",
        "Num=[1,2,3,4,5,6,7,8,9,10]\n",
        "\n",
        "Sum=0\n",
        "\n",
        "for i in Num:\n",
        "\n",
        "    Sum=Sum+i\n",
        "\n",
        "print(Sum)"
      ],
      "execution_count": 19,
      "outputs": [
        {
          "output_type": "stream",
          "text": [
            "55\n"
          ],
          "name": "stdout"
        }
      ]
    },
    {
      "cell_type": "markdown",
      "metadata": {
        "id": "L1tfDFJv7fvo"
      },
      "source": [
        "d.write a program using loop that asks for the number and prints a countdown from that number to zero"
      ]
    },
    {
      "cell_type": "code",
      "metadata": {
        "colab": {
          "base_uri": "https://localhost:8080/"
        },
        "id": "19-OFnzk76yQ",
        "outputId": "92173843-4ced-480e-d661-9a783df5dea9"
      },
      "source": [
        "num=int(input(\"Enter your number\"))\n",
        "while(num>=0):\n",
        "    print(num)\n",
        "    num=num-1\n"
      ],
      "execution_count": 21,
      "outputs": [
        {
          "output_type": "stream",
          "text": [
            "Enter your number6\n",
            "6\n",
            "5\n",
            "4\n",
            "3\n",
            "2\n",
            "1\n",
            "0\n"
          ],
          "name": "stdout"
        }
      ]
    },
    {
      "cell_type": "markdown",
      "metadata": {
        "id": "8g0HZbrQ8er2"
      },
      "source": [
        "EXCERCISE :4 CONTROL FLOW ---CONTINUED\n",
        "\n",
        "A.find the sum of all the primes below teo million "
      ]
    },
    {
      "cell_type": "code",
      "metadata": {
        "colab": {
          "base_uri": "https://localhost:8080/"
        },
        "id": "ax2kCdU_9tKJ",
        "outputId": "9f3eea7a-6879-47a1-bcf9-45ff96864273"
      },
      "source": [
        "import math\n",
        "def check_prime(num):\n",
        "    if num > 2 and num % 2 == 0:\n",
        "        return False\n",
        "    else:\n",
        "      \n",
        "        for i in range(3, int(math.sqrt(num)) + 1, 2):\n",
        "            if num % i == 0:\n",
        "                return False\n",
        "    return True\n",
        "n=int(input(\"Enter number: \"))\n",
        "sum = 0\n",
        "for i in range(2, n):\n",
        "        if check_prime(i):\n",
        "            print(i)\n",
        "            sum += i\n",
        "print(sum)"
      ],
      "execution_count": 25,
      "outputs": [
        {
          "output_type": "stream",
          "text": [
            "Enter number: 10\n",
            "2\n",
            "3\n",
            "5\n",
            "7\n",
            "17\n"
          ],
          "name": "stdout"
        }
      ]
    },
    {
      "cell_type": "markdown",
      "metadata": {
        "id": "MeRf8slG-Ktj"
      },
      "source": [
        "b.find the sum of even terms in fabonoacci series below four million"
      ]
    },
    {
      "cell_type": "code",
      "metadata": {
        "colab": {
          "base_uri": "https://localhost:8080/"
        },
        "id": "N9RxBw4c-ZQ0",
        "outputId": "2bffc620-582a-4b9d-ef25-6b1ac9440377"
      },
      "source": [
        "a=0\n",
        "b=2\n",
        "sum=a+b\n",
        "n=int(input(\"Enter limit:\"))\n",
        "while (b<=n) :\n",
        "        c=4*b+a\n",
        "        if (c> n) :\n",
        "           break\n",
        "        a=b\n",
        "        b=c\n",
        "        sum=sum+c\n",
        "print(sum)"
      ],
      "execution_count": 26,
      "outputs": [
        {
          "output_type": "stream",
          "text": [
            "Enter limit:45\n",
            "44\n"
          ],
          "name": "stdout"
        }
      ]
    },
    {
      "cell_type": "markdown",
      "metadata": {
        "id": "sha61A_6-w89"
      },
      "source": [
        "EXCERCISE : 5 DS\n",
        "\n",
        "A.write a program to count the number of characters in the string and store them in a dictionary data struture "
      ]
    },
    {
      "cell_type": "code",
      "metadata": {
        "colab": {
          "base_uri": "https://localhost:8080/"
        },
        "id": "Qe1jRiji_emE",
        "outputId": "807c8754-e341-4508-f6a8-9b955c80ef22"
      },
      "source": [
        "str=input(\"enter string : \")\n",
        "f = {} \n",
        "for i in str: \n",
        "    if i in f: \n",
        "        f[i] += 1\n",
        "    else: \n",
        "        f[i] = 1\n",
        "print(f)"
      ],
      "execution_count": 27,
      "outputs": [
        {
          "output_type": "stream",
          "text": [
            "enter string : kumar\n",
            "{'k': 1, 'u': 1, 'm': 1, 'a': 1, 'r': 1}\n"
          ],
          "name": "stdout"
        }
      ]
    },
    {
      "cell_type": "markdown",
      "metadata": {
        "id": "Fa0hfkxv_qaU"
      },
      "source": [
        "b.write a program to use and split and join methods in the string and trace a birthday with a dictinary data structure  "
      ]
    },
    {
      "cell_type": "code",
      "metadata": {
        "colab": {
          "base_uri": "https://localhost:8080/"
        },
        "id": "i-5csUkXAUjp",
        "outputId": "35dabbc4-0613-4cdb-e8ee-e710e6191a6b"
      },
      "source": [
        "dob={\"kumar\":\"26-jan-2002\",\"dummu\":\"31-jan-2002\"}\n",
        "\n",
        "name=input(\"Which person dob do you want to find:\")\n",
        "I=name.split()\n",
        "birth=\"\"\n",
        "for i in I:\n",
        "  if i in dob.keys():\n",
        "        pers=i\n",
        "print(\"\".join([pers,\"  birthday is\",dob[pers]]))"
      ],
      "execution_count": 35,
      "outputs": [
        {
          "output_type": "stream",
          "text": [
            "Which person dob do you want to find:dummu\n",
            "dummu  birthday is31-jan-2002\n"
          ],
          "name": "stdout"
        }
      ]
    }
  ]
}