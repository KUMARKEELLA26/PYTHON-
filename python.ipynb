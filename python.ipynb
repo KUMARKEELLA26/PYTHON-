{
  "nbformat": 4,
  "nbformat_minor": 0,
  "metadata": {
    "colab": {
      "name": "python.ipynb",
      "provenance": [],
      "collapsed_sections": [],
      "authorship_tag": "ABX9TyMTSrjfSTXxB8RWy1/4Jm5e",
      "include_colab_link": true
    },
    "kernelspec": {
      "name": "python3",
      "display_name": "Python 3"
    },
    "language_info": {
      "name": "python"
    }
  },
  "cells": [
    {
      "cell_type": "markdown",
      "metadata": {
        "id": "view-in-github",
        "colab_type": "text"
      },
      "source": [
        "<a href=\"https://colab.research.google.com/github/KUMARKEELLA26/PYTHON-/blob/main/python.ipynb\" target=\"_parent\"><img src=\"https://colab.research.google.com/assets/colab-badge.svg\" alt=\"Open In Colab\"/></a>"
      ]
    },
    {
      "cell_type": "code",
      "metadata": {
        "id": "cQjzBuXYwKuU"
      },
      "source": [
        ""
      ],
      "execution_count": null,
      "outputs": []
    },
    {
      "cell_type": "markdown",
      "metadata": {
        "id": "qP_TsTBS5bkY"
      },
      "source": [
        ""
      ]
    },
    {
      "cell_type": "markdown",
      "metadata": {
        "id": "R328fPHYwNqU"
      },
      "source": [
        "EXCERCISE: 1\n",
        "\n",
        "\n",
        "a.Running instructions in interactive interpreter and a python script"
      ]
    },
    {
      "cell_type": "code",
      "metadata": {
        "colab": {
          "base_uri": "https://localhost:8080/"
        },
        "id": "qY3EJjY7xAQX",
        "outputId": "f761da2e-421b-42e8-8d70-110b31261b9a"
      },
      "source": [
        "a=5\n",
        "b=7\n",
        "print(a,b)"
      ],
      "execution_count": null,
      "outputs": [
        {
          "output_type": "stream",
          "text": [
            "5 7\n"
          ],
          "name": "stdout"
        }
      ]
    },
    {
      "cell_type": "markdown",
      "metadata": {
        "id": "voll6P_zxnd-"
      },
      "source": [
        "b.write a program to purposefully riase indentation error and correct it"
      ]
    },
    {
      "cell_type": "code",
      "metadata": {
        "colab": {
          "base_uri": "https://localhost:8080/"
        },
        "id": "PmxVuRHHx7Di",
        "outputId": "dc22dea2-7d57-4d0f-99f6-626023310145"
      },
      "source": [
        "if 18>9:\n",
        "  #printf(\"true\")\n",
        "  print(\"true\")"
      ],
      "execution_count": null,
      "outputs": [
        {
          "output_type": "stream",
          "text": [
            "true\n"
          ],
          "name": "stdout"
        }
      ]
    },
    {
      "cell_type": "markdown",
      "metadata": {
        "id": "LUDpmdlFyOUr"
      },
      "source": [
        "EXERCISE:2 OPERATIONS \n",
        "\n",
        "\n",
        "a. write a program to compute distance betweent two points taking input from the user "
      ]
    },
    {
      "cell_type": "code",
      "metadata": {
        "colab": {
          "base_uri": "https://localhost:8080/"
        },
        "id": "CJfff4hRy3Xn",
        "outputId": "2a606679-2c1b-4467-a392-435fc2f05cfb"
      },
      "source": [
        "import math\n",
        "x1=int(input(\"Enter X1 point:\"))\n",
        "y1=int(input(\"Enter Y1 point:\"))\n",
        "x2=int(input(\"Enter X2 point:\"))\n",
        "y2=int(input(\"Enter Y2 point:\"))\n",
        "dis=math.sqrt(math.pow(x2 - x1, 2) +math.pow(y2 - y1, 2) * 1.0)\n",
        "print(dis)\n"
      ],
      "execution_count": null,
      "outputs": [
        {
          "output_type": "stream",
          "text": [
            "Enter X1 point:5\n",
            "Enter Y1 point:4\n",
            "Enter X2 point:0\n",
            "Enter Y2 point:0\n",
            "6.4031242374328485\n"
          ],
          "name": "stdout"
        }
      ]
    },
    {
      "cell_type": "markdown",
      "metadata": {
        "id": "DiIQ9lv60t_f"
      },
      "source": [
        "b.write a program add.py that takes 2 numbers as command line arguments and print its sum"
      ]
    },
    {
      "cell_type": "code",
      "metadata": {
        "id": "8SX2pyws0v8g"
      },
      "source": [
        "import sys\n",
        "x=int(sys.argv[1])\n",
        "y=int(sys.argv[2])\n",
        "sum=x+y\n",
        "print(\"The addition is :\",sum)\n"
      ],
      "execution_count": null,
      "outputs": []
    },
    {
      "cell_type": "markdown",
      "metadata": {
        "id": "0doS95o83xQb"
      },
      "source": [
        "5 15\n",
        "The addition is : 20 "
      ]
    },
    {
      "cell_type": "markdown",
      "metadata": {
        "id": "nU3gLiHx39R2"
      },
      "source": [
        "EXCERCISE:3 CONTROL FLOW \n",
        "\n",
        "\n",
        "a.write a program to test wheather the given number is even or not "
      ]
    },
    {
      "cell_type": "code",
      "metadata": {
        "colab": {
          "base_uri": "https://localhost:8080/"
        },
        "id": "A_QbHGAk5DQU",
        "outputId": "02fb86c2-2823-4de3-d971-d1725ac03083"
      },
      "source": [
        "a=int(input(\"Enter a Number : \"));\n",
        "if(a%2==0):\n",
        "     print(\"This Number is Even\")\n",
        "else:\n",
        "     print(\"This Number is Odd\")\n"
      ],
      "execution_count": null,
      "outputs": [
        {
          "output_type": "stream",
          "text": [
            "Enter a Number : 2\n",
            "This Number is Even\n"
          ],
          "name": "stdout"
        }
      ]
    },
    {
      "cell_type": "markdown",
      "metadata": {
        "id": "hWfE1Jb95hXf"
      },
      "source": [
        "b.using  for loop ,write a program that prints out decimal equivalent of 1/2,1/3,1/4.....1/10"
      ]
    },
    {
      "cell_type": "code",
      "metadata": {
        "colab": {
          "base_uri": "https://localhost:8080/"
        },
        "id": "vmla0_xZ54df",
        "outputId": "1f7f6423-3500-47f1-ab47-c3bc8fd2dc25"
      },
      "source": [
        "for i in range (2,11):\n",
        "  print(1/i)"
      ],
      "execution_count": null,
      "outputs": [
        {
          "output_type": "stream",
          "text": [
            "0.5\n",
            "0.3333333333333333\n",
            "0.25\n",
            "0.2\n",
            "0.16666666666666666\n",
            "0.14285714285714285\n",
            "0.125\n",
            "0.1111111111111111\n",
            "0.1\n"
          ],
          "name": "stdout"
        }
      ]
    },
    {
      "cell_type": "markdown",
      "metadata": {
        "id": "V0APaPS_6SfD"
      },
      "source": [
        "c.write a program that loops over a sequence .what is  sequence \n"
      ]
    },
    {
      "cell_type": "code",
      "metadata": {
        "colab": {
          "base_uri": "https://localhost:8080/"
        },
        "id": "uP60CG_E7bDy",
        "outputId": "af0a1529-f0d5-4ed6-e3ed-58c5c549f360"
      },
      "source": [
        "#Sum of all the list elements \n",
        "\n",
        "Num=[1,2,3,4,5,6,7,8,9,10]\n",
        "\n",
        "Sum=0\n",
        "\n",
        "for i in Num:\n",
        "\n",
        "    Sum=Sum+i\n",
        "\n",
        "print(Sum)"
      ],
      "execution_count": null,
      "outputs": [
        {
          "output_type": "stream",
          "text": [
            "55\n"
          ],
          "name": "stdout"
        }
      ]
    },
    {
      "cell_type": "markdown",
      "metadata": {
        "id": "L1tfDFJv7fvo"
      },
      "source": [
        "d.write a program using loop that asks for the number and prints a countdown from that number to zero"
      ]
    },
    {
      "cell_type": "code",
      "metadata": {
        "colab": {
          "base_uri": "https://localhost:8080/"
        },
        "id": "19-OFnzk76yQ",
        "outputId": "92173843-4ced-480e-d661-9a783df5dea9"
      },
      "source": [
        "num=int(input(\"Enter your number\"))\n",
        "while(num>=0):\n",
        "    print(num)\n",
        "    num=num-1\n"
      ],
      "execution_count": null,
      "outputs": [
        {
          "output_type": "stream",
          "text": [
            "Enter your number6\n",
            "6\n",
            "5\n",
            "4\n",
            "3\n",
            "2\n",
            "1\n",
            "0\n"
          ],
          "name": "stdout"
        }
      ]
    },
    {
      "cell_type": "markdown",
      "metadata": {
        "id": "8g0HZbrQ8er2"
      },
      "source": [
        "EXCERCISE :4 CONTROL FLOW ---CONTINUED\n",
        "\n",
        "A.find the sum of all the primes below teo million "
      ]
    },
    {
      "cell_type": "code",
      "metadata": {
        "colab": {
          "base_uri": "https://localhost:8080/"
        },
        "id": "ax2kCdU_9tKJ",
        "outputId": "9f3eea7a-6879-47a1-bcf9-45ff96864273"
      },
      "source": [
        "import math\n",
        "def check_prime(num):\n",
        "    if num > 2 and num % 2 == 0:\n",
        "        return False\n",
        "    else:\n",
        "      \n",
        "        for i in range(3, int(math.sqrt(num)) + 1, 2):\n",
        "            if num % i == 0:\n",
        "                return False\n",
        "    return True\n",
        "n=int(input(\"Enter number: \"))\n",
        "sum = 0\n",
        "for i in range(2, n):\n",
        "        if check_prime(i):\n",
        "            print(i)\n",
        "            sum += i\n",
        "print(sum)"
      ],
      "execution_count": null,
      "outputs": [
        {
          "output_type": "stream",
          "text": [
            "Enter number: 10\n",
            "2\n",
            "3\n",
            "5\n",
            "7\n",
            "17\n"
          ],
          "name": "stdout"
        }
      ]
    },
    {
      "cell_type": "markdown",
      "metadata": {
        "id": "MeRf8slG-Ktj"
      },
      "source": [
        "b.find the sum of even terms in fabonoacci series below four million"
      ]
    },
    {
      "cell_type": "code",
      "metadata": {
        "colab": {
          "base_uri": "https://localhost:8080/"
        },
        "id": "N9RxBw4c-ZQ0",
        "outputId": "2bffc620-582a-4b9d-ef25-6b1ac9440377"
      },
      "source": [
        "a=0\n",
        "b=2\n",
        "sum=a+b\n",
        "n=int(input(\"Enter limit:\"))\n",
        "while (b<=n) :\n",
        "        c=4*b+a\n",
        "        if (c> n) :\n",
        "           break\n",
        "        a=b\n",
        "        b=c\n",
        "        sum=sum+c\n",
        "print(sum)"
      ],
      "execution_count": null,
      "outputs": [
        {
          "output_type": "stream",
          "text": [
            "Enter limit:45\n",
            "44\n"
          ],
          "name": "stdout"
        }
      ]
    },
    {
      "cell_type": "markdown",
      "metadata": {
        "id": "sha61A_6-w89"
      },
      "source": [
        "EXCERCISE : 5 DS\n",
        "\n",
        "A.write a program to count the number of characters in the string and store them in a dictionary data struture "
      ]
    },
    {
      "cell_type": "code",
      "metadata": {
        "colab": {
          "base_uri": "https://localhost:8080/"
        },
        "id": "Qe1jRiji_emE",
        "outputId": "807c8754-e341-4508-f6a8-9b955c80ef22"
      },
      "source": [
        "str=input(\"enter string : \")\n",
        "f = {} \n",
        "for i in str: \n",
        "    if i in f: \n",
        "        f[i] += 1\n",
        "    else: \n",
        "        f[i] = 1\n",
        "print(f)"
      ],
      "execution_count": null,
      "outputs": [
        {
          "output_type": "stream",
          "text": [
            "enter string : kumar\n",
            "{'k': 1, 'u': 1, 'm': 1, 'a': 1, 'r': 1}\n"
          ],
          "name": "stdout"
        }
      ]
    },
    {
      "cell_type": "markdown",
      "metadata": {
        "id": "Fa0hfkxv_qaU"
      },
      "source": [
        "b.write a program to use and split and join methods in the string and trace a birthday with a dictinary data structure  "
      ]
    },
    {
      "cell_type": "code",
      "metadata": {
        "colab": {
          "base_uri": "https://localhost:8080/"
        },
        "id": "i-5csUkXAUjp",
        "outputId": "35dabbc4-0613-4cdb-e8ee-e710e6191a6b"
      },
      "source": [
        "dob={\"kumar\":\"26-jan-2002\",\"dummu\":\"31-jan-2002\"}\n",
        "\n",
        "name=input(\"Which person dob do you want to find:\")\n",
        "I=name.split()\n",
        "birth=\"\"\n",
        "for i in I:\n",
        "  if i in dob.keys():\n",
        "        pers=i\n",
        "print(\"\".join([pers,\"  birthday is\",dob[pers]]))"
      ],
      "execution_count": null,
      "outputs": [
        {
          "output_type": "stream",
          "text": [
            "Which person dob do you want to find:dummu\n",
            "dummu  birthday is31-jan-2002\n"
          ],
          "name": "stdout"
        }
      ]
    },
    {
      "cell_type": "markdown",
      "metadata": {
        "id": "XnEECnaV5fLi"
      },
      "source": [
        "EXERCISE:-6 DS__CONTINUED\n",
        "\n",
        "A.Write a program combinelists that combines these lists into dictionary "
      ]
    },
    {
      "cell_type": "code",
      "metadata": {
        "colab": {
          "base_uri": "https://localhost:8080/"
        },
        "id": "OKQGVeW66Auc",
        "outputId": "b5f8b89c-9fb9-4ac8-b097-64cd90e65291"
      },
      "source": [
        "name = [\"kumar \", \"kiran\", \"nagababu\"]\n",
        "age = [19, 24, 15]\n",
        "res = {name[i]: age[i] for i in range(len(age))}\n",
        "print (\"Resultant dictionary is : \" + str(res))\n"
      ],
      "execution_count": 2,
      "outputs": [
        {
          "output_type": "stream",
          "text": [
            "Resultant dictionary is : {'kumar ': 19, 'kiran': 24, 'nagababu': 15}\n"
          ],
          "name": "stdout"
        }
      ]
    },
    {
      "cell_type": "markdown",
      "metadata": {
        "id": "9yK8SImn646Y"
      },
      "source": [
        "B. write a program to count frequency of characters in a given file.can you character frequency to tell whether the given file is phython file,cprogram file or text file "
      ]
    },
    {
      "cell_type": "code",
      "metadata": {
        "id": "zjYWRWrb7haT"
      },
      "source": [
        "filetypes=['.py','.c','.txt'] \n",
        "fn=input(\"Enter the file name:\")\n",
        "f=open(fn,\"r\")\n",
        "count=dict()\n",
        "print(\"Given file is \",end='') \n",
        "for ft in filetypes:\n",
        "    if (ft in fn):\n",
        "      if(ft=='.py'):\n",
        "        print(\"Python File\")\n",
        "      elif (ft=='.txt'):\n",
        "        print(\"Text File\")\n",
        "      elif (ft=='.c'):\n",
        "        print(\"C File\")\n",
        "for line in f:\n",
        "  for ch in line:\n",
        "    if ch in count:\n",
        "      count[ch]=count[ch]+1\n",
        "    else:\n",
        "       count[ch]=1\n",
        "print(count)\n",
        "f.close()"
      ],
      "execution_count": null,
      "outputs": []
    },
    {
      "cell_type": "markdown",
      "metadata": {
        "id": "6jndNNFI8QIf"
      },
      "source": [
        "OUTPUT:\n",
        "\n",
        "Enter the file name:sum.py Given file is Python File {'i': 7, 'm': 3, 'p': 2, 'o': 2, 'r': 4, 't': 5, ' ': 5, 's': 9, 'y': 5, '\\n': 5, 'x': 2, '=': 3, 'n': 4, '(': 3, '.': 2, 'a': 3, 'g': 2, 'v': 2, '[': 2, '1': 1, ']': 2, ')': 3, '2': 1, 'u': 2, '+': 1, '\"': 2, 'T': 1, 'h': 1, 'e': 1, 'd': 2, ':': 1, ',': 1}"
      ]
    },
    {
      "cell_type": "markdown",
      "metadata": {
        "id": "BBmg2Ani8xnl"
      },
      "source": [
        "EXERCISE:-7 FILES\n",
        "\n",
        "a.write a program to print each line of a file in reverse order "
      ]
    },
    {
      "cell_type": "code",
      "metadata": {
        "id": "7BZYUfAG9su7"
      },
      "source": [
        "obj=open(\"abc.text\",\"r\")\n",
        "if obj:\n",
        "  st=obj.read()\n",
        "  print(\"file content is:\\n\",st)\n",
        "  obj.close()\n",
        "\n",
        "  print()\n",
        "  lines=st.split(\"\\n\")\n",
        "  \n",
        "  for ln in lines:\n",
        "   i=len(ln)-1\n",
        "   while(i>=0):\n",
        "    print(ln[i],end=\"\")\n",
        "  i=i-1\n",
        "  print()\n",
        "\n"
      ],
      "execution_count": null,
      "outputs": []
    },
    {
      "cell_type": "markdown",
      "metadata": {
        "id": "nQqHnAJP_9n8"
      },
      "source": [
        "file content is:\n",
        "welcome to python programmig..."
      ]
    },
    {
      "cell_type": "markdown",
      "metadata": {
        "id": "ijIgqbiBAJZN"
      },
      "source": [
        "b.write a program to compute the number of characters,words and lines in a file."
      ]
    },
    {
      "cell_type": "code",
      "metadata": {
        "id": "6TIbIbImActs"
      },
      "source": [
        "nc=nw=nl=0\n",
        "file=open(\"abc.txt\",\"r\")\n",
        "\n",
        "nl=nw=nc=0\n",
        "print(\"file content:\\n\")\n",
        "for line in file:\n",
        "  ln=line.strip(\"\\n\")\n",
        "  print(ln)\n",
        "  words=ln.split()\n",
        "  nl+=1\n",
        "  nw+=len(words)\n",
        "  nc+=len(line)\n",
        "  file.close()\n",
        "  print(\"\\n no.of.lines:\",nl,\"words:\",nw,\"characters:\",nc)"
      ],
      "execution_count": null,
      "outputs": []
    },
    {
      "cell_type": "markdown",
      "metadata": {
        "id": "CbsNMw34DDuB"
      },
      "source": [
        "output:-\n",
        "\n",
        "file content:\n",
        "welcome to python programming...\n",
        "  kumar\n",
        "  cse\n",
        "  swrn\n",
        "\n",
        "   no.of lines:4 words7 characters:44"
      ]
    },
    {
      "cell_type": "markdown",
      "metadata": {
        "id": "_mWiP9NWD5BU"
      },
      "source": [
        "EXERCISE:-8 FUNCTIONS \n",
        "\n",
        "A.Write a function ball collide that takes two balls as parameters and computes if they arecolliding.Your function should return a Boolean representing whether or not the balls arecolliding.\n"
      ]
    },
    {
      "cell_type": "code",
      "metadata": {
        "colab": {
          "base_uri": "https://localhost:8080/"
        },
        "id": "nvBf-RvCEy-w",
        "outputId": "46be8304-c207-49a7-b525-ed0dd68837ac"
      },
      "source": [
        "import math\n",
        "def ball_collide(ball_tuple1,ball_tuple2):\n",
        "    d=math.sqrt((ball_tuple1[0]-ball_tuple2[0])**2 + \n",
        "\n",
        "(ball_tuple1[1]-ball_tuple2[1])**2)\n",
        "    if(d<=(ball_tuple1[2]+ball_tuple2[2])):\n",
        "        return True\n",
        "    else:\n",
        "        return False\n",
        "\n",
        "ball_tuple1=(-2,-2,3)\n",
        "ball_tuple2=(1,1,3)\n",
        "collision=ball_collide(ball_tuple1,ball_tuple2)\n",
        "if(collision):\n",
        "    print(\"Balls are collide.\")\n",
        "else:\n",
        "    print(\"Balls are not collide.\")\n"
      ],
      "execution_count": 15,
      "outputs": [
        {
          "output_type": "stream",
          "text": [
            "Balls are collide.\n"
          ],
          "name": "stdout"
        }
      ]
    },
    {
      "cell_type": "markdown",
      "metadata": {
        "id": "MhFIHRk6E436"
      },
      "source": [
        "b.find mean,median,mode for the given set of numbers in a list\n"
      ]
    },
    {
      "cell_type": "code",
      "metadata": {
        "colab": {
          "base_uri": "https://localhost:8080/"
        },
        "id": "uVc2nD1cFSLw",
        "outputId": "ac714e56-25e2-4a32-fd99-bc219c9b0bec"
      },
      "source": [
        "import numpy as np\n",
        "from scipy import stats\n",
        "lst = [] \n",
        "lst = [int(item) for item in input(\"Enter the list items : \").split()] \n",
        "mean= np.mean(lst)\n",
        "median = np.median(lst)\n",
        "mode= stats.mode(lst)\n",
        "print(\"Mean: \", mean)\n",
        "print(\"Median: \", median)\n",
        "print(\"Mode: \", mode)\n"
      ],
      "execution_count": 19,
      "outputs": [
        {
          "output_type": "stream",
          "text": [
            "Enter the list items : 1 2 5 8 9 11 14 20\n",
            "Mean:  8.75\n",
            "Median:  8.5\n",
            "Mode:  ModeResult(mode=array([1]), count=array([1]))\n"
          ],
          "name": "stdout"
        }
      ]
    },
    {
      "cell_type": "markdown",
      "metadata": {
        "id": "R6OasecXFuY6"
      },
      "source": [
        "EXERCISE:-9 FUNCTIONS__CONTINUED \n",
        "\n",
        "a) Write a function nearly equal to test whether two strings are nearly equal. Two strings a and bare nearly equal when a can be generated by a single mutation on b."
      ]
    },
    {
      "cell_type": "code",
      "metadata": {
        "colab": {
          "base_uri": "https://localhost:8080/"
        },
        "id": "IkKDgSYvH2rv",
        "outputId": "efc4725c-4035-4348-d32f-89c3fa674dbb"
      },
      "source": [
        "string1 = input(\"Enter first string: \")\n",
        "string2 = input(\"Enter second string: \")\n",
        "if string1 == string2:\n",
        "    print(\"\\nBoth strings are equal to each other.\")\n",
        "    print(string1,\"==\",string2);\n",
        "else:\n",
        "    print(\"\\nStrings are not equal.\")\n",
        "    print(string1,\"!=\",string2);"
      ],
      "execution_count": 20,
      "outputs": [
        {
          "output_type": "stream",
          "text": [
            "Enter first string: KUMAR\n",
            "Enter second string: BADRI\n",
            "\n",
            "Strings are not equal.\n",
            "KUMAR != BADRI\n"
          ],
          "name": "stdout"
        }
      ]
    },
    {
      "cell_type": "markdown",
      "metadata": {
        "id": "iwKLCntjIGBx"
      },
      "source": [
        "b) Write a function dup to find all duplicates in the list.\n"
      ]
    },
    {
      "cell_type": "code",
      "metadata": {
        "colab": {
          "base_uri": "https://localhost:8080/"
        },
        "id": "GSBqMj9mIXhO",
        "outputId": "b2b4d600-dd0e-4a2d-da0d-880314a6a036"
      },
      "source": [
        "from collections import Counter\n",
        "lst = [] \n",
        "lst = [int(item) for item in input(\"Enter the list items : \").split()] \n",
        "d = Counter(lst)\n",
        "print(d)\n",
        "new_lst = tuple([item for item in d if d[item]>1])\n",
        "print(new_lst)"
      ],
      "execution_count": 21,
      "outputs": [
        {
          "output_type": "stream",
          "text": [
            "Enter the list items : 5 4 2 3 1\n",
            "Counter({5: 1, 4: 1, 2: 1, 3: 1, 1: 1})\n",
            "()\n"
          ],
          "name": "stdout"
        }
      ]
    },
    {
      "cell_type": "markdown",
      "metadata": {
        "id": "EKr71U0kIzmP"
      },
      "source": [
        "c) Write a function unique to find all the unique elements of a list.\n"
      ]
    },
    {
      "cell_type": "code",
      "metadata": {
        "colab": {
          "base_uri": "https://localhost:8080/"
        },
        "id": "TP_qOUrcJCyR",
        "outputId": "9065acc3-bfb3-42d4-dcd8-4194ca5961c8"
      },
      "source": [
        "from collections import Counter\n",
        "def unique(lst):\n",
        "    print(*Counter(lst))\n",
        "lst = [] \n",
        "lst = [int(item) for item in input(\"Enter the list items : \").split()] \n",
        "print(\"the unique values from list is\")\n",
        "unique(lst)"
      ],
      "execution_count": 22,
      "outputs": [
        {
          "output_type": "stream",
          "text": [
            "Enter the list items : 44 25 85 44 22 6 5 6\n",
            "the unique values from list is\n",
            "44 25 85 22 6 5\n"
          ],
          "name": "stdout"
        }
      ]
    },
    {
      "cell_type": "markdown",
      "metadata": {
        "id": "fxt64dZTJ1E8"
      },
      "source": [
        "EXCERCISE:-10:FUNCTIONS- PROBLEMS SOLVING\n",
        "\n",
        "a)Write a function cumulative product to compute cumulative product of a list of numbers."
      ]
    },
    {
      "cell_type": "code",
      "metadata": {
        "colab": {
          "base_uri": "https://localhost:8080/"
        },
        "id": "MPCO4r_zKPuN",
        "outputId": "f4c9b57b-ab9b-4410-fb6c-5fb246af27a4"
      },
      "source": [
        "def Cumulative_sum(lst):   \n",
        "    cum_list = []   \n",
        "    length = len(lst)   \n",
        "    cum_list = [sum(lst[0:x:1]) for x in range(0, length+1)]   \n",
        "    return cum_list[1:]  \n",
        "lst = [] \n",
        "lst = [int(item) for item in input(\"Enter the list items : \").split()] \n",
        "print (Cumulative_sum(lst))"
      ],
      "execution_count": 23,
      "outputs": [
        {
          "output_type": "stream",
          "text": [
            "Enter the list items : 5 4 2 3 8\n",
            "[5, 9, 11, 14, 22]\n"
          ],
          "name": "stdout"
        }
      ]
    },
    {
      "cell_type": "markdown",
      "metadata": {
        "id": "jP-_Cs8WKfVo"
      },
      "source": [
        "b)Write a function reverse to reverse a list. Without using the reverse function."
      ]
    },
    {
      "cell_type": "code",
      "metadata": {
        "colab": {
          "base_uri": "https://localhost:8080/"
        },
        "id": "kRcC7rAIKopx",
        "outputId": "1ca9441b-7f38-4c5e-aeea-63a08090cb9c"
      },
      "source": [
        "def Reverse(lst):\n",
        "    new_lst = lst[::-1]\n",
        "    return new_lst\n",
        "lst = [] \n",
        "lst = [int(item) for item in input(\"Enter the list items : \").split()] \n",
        "print(Reverse(lst))"
      ],
      "execution_count": 24,
      "outputs": [
        {
          "output_type": "stream",
          "text": [
            "Enter the list items : 2 5 6 4 2 3\n",
            "[3, 2, 4, 6, 5, 2]\n"
          ],
          "name": "stdout"
        }
      ]
    },
    {
      "cell_type": "markdown",
      "metadata": {
        "id": "BVNlrup2KzNQ"
      },
      "source": [
        "c) Write function to compute gcd, lcm of two numbers. Each function shouldn't exceed one line."
      ]
    },
    {
      "cell_type": "code",
      "metadata": {
        "colab": {
          "base_uri": "https://localhost:8080/",
          "height": 350
        },
        "id": "jUhhIbj5Ly3i",
        "outputId": "c3e4ec83-3bb9-40ac-bbc2-e2d10ce8237f"
      },
      "source": [
        "import math\n",
        "a=int(input(\"Enter a:\"))\n",
        "b=int(input(\"Enter b:\"))\n",
        "print (\"The gcd of a and b is : \",end=\"\")\n",
        "print (math.gcd(a,b))\n",
        "def lcm(a, b):\n",
        "    return a*b/gcd(a,b)\n",
        "print('lcm of a &b is:',lcm(a,b))\n"
      ],
      "execution_count": 42,
      "outputs": [
        {
          "output_type": "stream",
          "text": [
            "Enter a:2\n",
            "Enter b:3\n",
            "The gcd of a and b is : 1\n"
          ],
          "name": "stdout"
        },
        {
          "output_type": "error",
          "ename": "NameError",
          "evalue": "ignored",
          "traceback": [
            "\u001b[0;31m---------------------------------------------------------------------------\u001b[0m",
            "\u001b[0;31mNameError\u001b[0m                                 Traceback (most recent call last)",
            "\u001b[0;32m<ipython-input-42-8338661678f6>\u001b[0m in \u001b[0;36m<module>\u001b[0;34m()\u001b[0m\n\u001b[1;32m      6\u001b[0m \u001b[0;32mdef\u001b[0m \u001b[0mlcm\u001b[0m\u001b[0;34m(\u001b[0m\u001b[0ma\u001b[0m\u001b[0;34m,\u001b[0m \u001b[0mb\u001b[0m\u001b[0;34m)\u001b[0m\u001b[0;34m:\u001b[0m\u001b[0;34m\u001b[0m\u001b[0;34m\u001b[0m\u001b[0m\n\u001b[1;32m      7\u001b[0m     \u001b[0;32mreturn\u001b[0m \u001b[0ma\u001b[0m\u001b[0;34m*\u001b[0m\u001b[0mb\u001b[0m\u001b[0;34m/\u001b[0m\u001b[0mgcd\u001b[0m\u001b[0;34m(\u001b[0m\u001b[0ma\u001b[0m\u001b[0;34m,\u001b[0m\u001b[0mb\u001b[0m\u001b[0;34m)\u001b[0m\u001b[0;34m\u001b[0m\u001b[0;34m\u001b[0m\u001b[0m\n\u001b[0;32m----> 8\u001b[0;31m \u001b[0mprint\u001b[0m\u001b[0;34m(\u001b[0m\u001b[0;34m'lcm of a &b is:'\u001b[0m\u001b[0;34m,\u001b[0m\u001b[0mlcm\u001b[0m\u001b[0;34m(\u001b[0m\u001b[0ma\u001b[0m\u001b[0;34m,\u001b[0m\u001b[0mb\u001b[0m\u001b[0;34m)\u001b[0m\u001b[0;34m)\u001b[0m\u001b[0;34m\u001b[0m\u001b[0;34m\u001b[0m\u001b[0m\n\u001b[0m",
            "\u001b[0;32m<ipython-input-42-8338661678f6>\u001b[0m in \u001b[0;36mlcm\u001b[0;34m(a, b)\u001b[0m\n\u001b[1;32m      5\u001b[0m \u001b[0mprint\u001b[0m \u001b[0;34m(\u001b[0m\u001b[0mmath\u001b[0m\u001b[0;34m.\u001b[0m\u001b[0mgcd\u001b[0m\u001b[0;34m(\u001b[0m\u001b[0ma\u001b[0m\u001b[0;34m,\u001b[0m\u001b[0mb\u001b[0m\u001b[0;34m)\u001b[0m\u001b[0;34m)\u001b[0m\u001b[0;34m\u001b[0m\u001b[0;34m\u001b[0m\u001b[0m\n\u001b[1;32m      6\u001b[0m \u001b[0;32mdef\u001b[0m \u001b[0mlcm\u001b[0m\u001b[0;34m(\u001b[0m\u001b[0ma\u001b[0m\u001b[0;34m,\u001b[0m \u001b[0mb\u001b[0m\u001b[0;34m)\u001b[0m\u001b[0;34m:\u001b[0m\u001b[0;34m\u001b[0m\u001b[0;34m\u001b[0m\u001b[0m\n\u001b[0;32m----> 7\u001b[0;31m     \u001b[0;32mreturn\u001b[0m \u001b[0ma\u001b[0m\u001b[0;34m*\u001b[0m\u001b[0mb\u001b[0m\u001b[0;34m/\u001b[0m\u001b[0mgcd\u001b[0m\u001b[0;34m(\u001b[0m\u001b[0ma\u001b[0m\u001b[0;34m,\u001b[0m\u001b[0mb\u001b[0m\u001b[0;34m)\u001b[0m\u001b[0;34m\u001b[0m\u001b[0;34m\u001b[0m\u001b[0m\n\u001b[0m\u001b[1;32m      8\u001b[0m \u001b[0mprint\u001b[0m\u001b[0;34m(\u001b[0m\u001b[0;34m'lcm of a &b is:'\u001b[0m\u001b[0;34m,\u001b[0m\u001b[0mlcm\u001b[0m\u001b[0;34m(\u001b[0m\u001b[0ma\u001b[0m\u001b[0;34m,\u001b[0m\u001b[0mb\u001b[0m\u001b[0;34m)\u001b[0m\u001b[0;34m)\u001b[0m\u001b[0;34m\u001b[0m\u001b[0;34m\u001b[0m\u001b[0m\n",
            "\u001b[0;31mNameError\u001b[0m: name 'gcd' is not defined"
          ]
        }
      ]
    },
    {
      "cell_type": "markdown",
      "metadata": {
        "id": "j9SlZqkVNeUJ"
      },
      "source": [
        "lcm of a&b is: 6.0"
      ]
    }
  ]
}